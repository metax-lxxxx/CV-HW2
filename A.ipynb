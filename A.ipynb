{
 "cells": [
  {
   "cell_type": "code",
   "execution_count": 1,
   "metadata": {},
   "outputs": [],
   "source": [
    "import torch\n",
    "from torch import nn\n",
    "import torchvision\n",
    "from torchvision import models\n",
    "from torchvision import datasets, transforms\n",
    "from datetime import datetime\n",
    "import sys\n",
    "from tqdm import tqdm\n",
    "\n",
    "import matplotlib.pyplot as plt"
   ]
  },
  {
   "cell_type": "code",
   "execution_count": 2,
   "metadata": {},
   "outputs": [],
   "source": [
    "from Filea.cutout import Cutout"
   ]
  },
  {
   "cell_type": "code",
   "execution_count": 3,
   "metadata": {},
   "outputs": [],
   "source": [
    "from Filea.mixup import mixup_data"
   ]
  },
  {
   "cell_type": "code",
   "execution_count": 4,
   "metadata": {},
   "outputs": [
    {
     "name": "stdout",
     "output_type": "stream",
     "text": [
      "sys.version_info(major=3, minor=9, micro=13, releaselevel='final', serial=0)\n",
      "2.1.0.dev20230529+cu121\n",
      "0.16.0.dev20230529+cu121\n",
      "True\n",
      "NVIDIA GeForce RTX 2060\n"
     ]
    }
   ],
   "source": [
    "print(sys.version_info)\n",
    "print(torch.__version__)\n",
    "print(torchvision.__version__)\n",
    "print(torch.cuda.is_available())\n",
    "print(torch.cuda.get_device_name())"
   ]
  },
  {
   "cell_type": "code",
   "execution_count": 5,
   "metadata": {},
   "outputs": [
    {
     "name": "stderr",
     "output_type": "stream",
     "text": [
      "c:\\Computer_Vision_HW2\\venv\\lib\\site-packages\\torchvision\\models\\_utils.py:208: UserWarning: The parameter 'pretrained' is deprecated since 0.13 and may be removed in the future, please use 'weights' instead.\n",
      "  warnings.warn(\n",
      "c:\\Computer_Vision_HW2\\venv\\lib\\site-packages\\torchvision\\models\\_utils.py:223: UserWarning: Arguments other than a weight enum or `None` for 'weights' are deprecated since 0.13 and may be removed in the future. The current behavior is equivalent to passing `weights=None`.\n",
      "  warnings.warn(msg)\n"
     ]
    }
   ],
   "source": [
    "model = models.resnet18(pretrained=False, num_classes=100)"
   ]
  },
  {
   "cell_type": "code",
   "execution_count": 6,
   "metadata": {},
   "outputs": [
    {
     "name": "stderr",
     "output_type": "stream",
     "text": [
      "c:\\Computer_Vision_HW2\\venv\\lib\\site-packages\\torchvision\\models\\_utils.py:223: UserWarning: Arguments other than a weight enum or `None` for 'weights' are deprecated since 0.13 and may be removed in the future. The current behavior is equivalent to passing `weights=ResNet18_Weights.IMAGENET1K_V1`. You can also use `weights=ResNet18_Weights.DEFAULT` to get the most up-to-date weights.\n",
      "  warnings.warn(msg)\n"
     ]
    }
   ],
   "source": [
    "\n",
    "model = models.resnet18(pretrained=True, )\n",
    "in_features = model.fc.in_features\n",
    "model.fc = nn.Linear(in_features, 10)"
   ]
  },
  {
   "cell_type": "code",
   "execution_count": 7,
   "metadata": {},
   "outputs": [],
   "source": [
    "from torchsummary import summary"
   ]
  },
  {
   "cell_type": "code",
   "execution_count": 8,
   "metadata": {},
   "outputs": [
    {
     "name": "stdout",
     "output_type": "stream",
     "text": [
      "----------------------------------------------------------------\n",
      "        Layer (type)               Output Shape         Param #\n",
      "================================================================\n",
      "            Conv2d-1         [-1, 64, 112, 112]           9,408\n",
      "       BatchNorm2d-2         [-1, 64, 112, 112]             128\n",
      "              ReLU-3         [-1, 64, 112, 112]               0\n",
      "         MaxPool2d-4           [-1, 64, 56, 56]               0\n",
      "            Conv2d-5           [-1, 64, 56, 56]          36,864\n",
      "       BatchNorm2d-6           [-1, 64, 56, 56]             128\n",
      "              ReLU-7           [-1, 64, 56, 56]               0\n",
      "            Conv2d-8           [-1, 64, 56, 56]          36,864\n",
      "       BatchNorm2d-9           [-1, 64, 56, 56]             128\n",
      "             ReLU-10           [-1, 64, 56, 56]               0\n",
      "       BasicBlock-11           [-1, 64, 56, 56]               0\n",
      "           Conv2d-12           [-1, 64, 56, 56]          36,864\n",
      "      BatchNorm2d-13           [-1, 64, 56, 56]             128\n",
      "             ReLU-14           [-1, 64, 56, 56]               0\n",
      "           Conv2d-15           [-1, 64, 56, 56]          36,864\n",
      "      BatchNorm2d-16           [-1, 64, 56, 56]             128\n",
      "             ReLU-17           [-1, 64, 56, 56]               0\n",
      "       BasicBlock-18           [-1, 64, 56, 56]               0\n",
      "           Conv2d-19          [-1, 128, 28, 28]          73,728\n",
      "      BatchNorm2d-20          [-1, 128, 28, 28]             256\n",
      "             ReLU-21          [-1, 128, 28, 28]               0\n",
      "           Conv2d-22          [-1, 128, 28, 28]         147,456\n",
      "      BatchNorm2d-23          [-1, 128, 28, 28]             256\n",
      "           Conv2d-24          [-1, 128, 28, 28]           8,192\n",
      "      BatchNorm2d-25          [-1, 128, 28, 28]             256\n",
      "             ReLU-26          [-1, 128, 28, 28]               0\n",
      "       BasicBlock-27          [-1, 128, 28, 28]               0\n",
      "           Conv2d-28          [-1, 128, 28, 28]         147,456\n",
      "      BatchNorm2d-29          [-1, 128, 28, 28]             256\n",
      "             ReLU-30          [-1, 128, 28, 28]               0\n",
      "           Conv2d-31          [-1, 128, 28, 28]         147,456\n",
      "      BatchNorm2d-32          [-1, 128, 28, 28]             256\n",
      "             ReLU-33          [-1, 128, 28, 28]               0\n",
      "       BasicBlock-34          [-1, 128, 28, 28]               0\n",
      "           Conv2d-35          [-1, 256, 14, 14]         294,912\n",
      "      BatchNorm2d-36          [-1, 256, 14, 14]             512\n",
      "             ReLU-37          [-1, 256, 14, 14]               0\n",
      "           Conv2d-38          [-1, 256, 14, 14]         589,824\n",
      "      BatchNorm2d-39          [-1, 256, 14, 14]             512\n",
      "           Conv2d-40          [-1, 256, 14, 14]          32,768\n",
      "      BatchNorm2d-41          [-1, 256, 14, 14]             512\n",
      "             ReLU-42          [-1, 256, 14, 14]               0\n",
      "       BasicBlock-43          [-1, 256, 14, 14]               0\n",
      "           Conv2d-44          [-1, 256, 14, 14]         589,824\n",
      "      BatchNorm2d-45          [-1, 256, 14, 14]             512\n",
      "             ReLU-46          [-1, 256, 14, 14]               0\n",
      "           Conv2d-47          [-1, 256, 14, 14]         589,824\n",
      "      BatchNorm2d-48          [-1, 256, 14, 14]             512\n",
      "             ReLU-49          [-1, 256, 14, 14]               0\n",
      "       BasicBlock-50          [-1, 256, 14, 14]               0\n",
      "           Conv2d-51            [-1, 512, 7, 7]       1,179,648\n",
      "      BatchNorm2d-52            [-1, 512, 7, 7]           1,024\n",
      "             ReLU-53            [-1, 512, 7, 7]               0\n",
      "           Conv2d-54            [-1, 512, 7, 7]       2,359,296\n",
      "      BatchNorm2d-55            [-1, 512, 7, 7]           1,024\n",
      "           Conv2d-56            [-1, 512, 7, 7]         131,072\n",
      "      BatchNorm2d-57            [-1, 512, 7, 7]           1,024\n",
      "             ReLU-58            [-1, 512, 7, 7]               0\n",
      "       BasicBlock-59            [-1, 512, 7, 7]               0\n",
      "           Conv2d-60            [-1, 512, 7, 7]       2,359,296\n",
      "      BatchNorm2d-61            [-1, 512, 7, 7]           1,024\n",
      "             ReLU-62            [-1, 512, 7, 7]               0\n",
      "           Conv2d-63            [-1, 512, 7, 7]       2,359,296\n",
      "      BatchNorm2d-64            [-1, 512, 7, 7]           1,024\n",
      "             ReLU-65            [-1, 512, 7, 7]               0\n",
      "       BasicBlock-66            [-1, 512, 7, 7]               0\n",
      "AdaptiveAvgPool2d-67            [-1, 512, 1, 1]               0\n",
      "           Linear-68                   [-1, 10]           5,130\n",
      "================================================================\n",
      "Total params: 11,181,642\n",
      "Trainable params: 11,181,642\n",
      "Non-trainable params: 0\n",
      "----------------------------------------------------------------\n",
      "Input size (MB): 0.57\n",
      "Forward/backward pass size (MB): 62.79\n",
      "Params size (MB): 42.65\n",
      "Estimated Total Size (MB): 106.01\n",
      "----------------------------------------------------------------\n"
     ]
    }
   ],
   "source": [
    "summary(model, input_size=(3, 224, 224), device='cpu')"
   ]
  },
  {
   "cell_type": "code",
   "execution_count": 9,
   "metadata": {},
   "outputs": [],
   "source": [
    "# dataset\n",
    "# input_shape = 32\n",
    "num_classes = 10\n",
    "\n",
    "# hyperarameter\n",
    "batch_size = 64\n",
    "num_epochs = 5\n",
    "learning_rate = 1e-3\n",
    "# gpu\n",
    "device = torch.device('cuda' if torch.cuda.is_available() else 'cpu')\n"
   ]
  },
  {
   "cell_type": "code",
   "execution_count": 31,
   "metadata": {},
   "outputs": [
    {
     "name": "stdout",
     "output_type": "stream",
     "text": [
      "Files already downloaded and verified\n",
      "Files already downloaded and verified\n"
     ]
    }
   ],
   "source": [
    "train_dataset = datasets.CIFAR100(root='../data/', \n",
    "                               download=True, \n",
    "                               train=True, \n",
    "                               transform=transforms.ToTensor()\n",
    "                               )\n",
    "test_dataset = datasets.CIFAR100(root='../data/', \n",
    "                               download=True, \n",
    "                               train=False, \n",
    "                               transform=transforms.ToTensor())\n"
   ]
  },
  {
   "cell_type": "code",
   "execution_count": 32,
   "metadata": {},
   "outputs": [],
   "source": [
    "transform = transforms.Compose([\n",
    "    transforms.Resize(size=(224, 224)),\n",
    "    transforms.ToTensor(),\n",
    "    transforms.Normalize(mean=(0.485, 0.456, 0.406), std=(0.229, 0.224, 0.225)),\n",
    "    Cutout(n_holes=1, length=16),\n",
    "])"
   ]
  },
  {
   "cell_type": "code",
   "execution_count": 33,
   "metadata": {},
   "outputs": [],
   "source": [
    "train_dataloader = torch.utils.data.DataLoader(dataset=train_dataset, \n",
    "                                               shuffle=True, \n",
    "                                               batch_size=batch_size)\n",
    "test_dataloader = torch.utils.data.DataLoader(dataset=test_dataset, \n",
    "                                               shuffle=False, \n",
    "                                               batch_size=batch_size)"
   ]
  },
  {
   "cell_type": "code",
   "execution_count": 34,
   "metadata": {},
   "outputs": [],
   "source": [
    "images, labels = next(iter(train_dataloader))"
   ]
  },
  {
   "cell_type": "code",
   "execution_count": 14,
   "metadata": {},
   "outputs": [
    {
     "data": {
      "text/plain": [
       "torch.Size([64, 3, 32, 32])"
      ]
     },
     "execution_count": 14,
     "metadata": {},
     "output_type": "execute_result"
    }
   ],
   "source": [
    "images.shape"
   ]
  },
  {
   "cell_type": "code",
   "execution_count": 35,
   "metadata": {},
   "outputs": [],
   "source": [
    "model = models.resnet18(pretrained=True)\n",
    "in_features = model.fc.in_features\n",
    "model.fc = nn.Linear(in_features, 100)\n",
    "model = model.to(device)"
   ]
  },
  {
   "cell_type": "code",
   "execution_count": 36,
   "metadata": {},
   "outputs": [],
   "source": [
    "criterion = nn.CrossEntropyLoss()\n",
    "optimizer = torch.optim.SGD(model.parameters(), lr = learning_rate, momentum=0.9,weight_decay=5e-4)\n",
    "total_batch = len(train_dataloader)"
   ]
  },
  {
   "cell_type": "code",
   "execution_count": 17,
   "metadata": {},
   "outputs": [
    {
     "name": "stdout",
     "output_type": "stream",
     "text": [
      "2023-05-31 17:43:48.348449, 1/5, 100/782: 3.9069, acc: 0.0625\n",
      "2023-05-31 17:43:51.007668, 1/5, 200/782: 3.4261, acc: 0.140625\n",
      "2023-05-31 17:43:53.624387, 1/5, 300/782: 2.7320, acc: 0.28125\n",
      "2023-05-31 17:43:56.058279, 1/5, 400/782: 2.6297, acc: 0.390625\n",
      "2023-05-31 17:43:58.542628, 1/5, 500/782: 2.4346, acc: 0.390625\n",
      "2023-05-31 17:44:00.983142, 1/5, 600/782: 2.3945, acc: 0.34375\n",
      "2023-05-31 17:44:03.534412, 1/5, 700/782: 2.8505, acc: 0.28125\n",
      "2023-05-31 17:44:08.129536, 2/5, 100/782: 2.1837, acc: 0.40625\n",
      "2023-05-31 17:44:10.487985, 2/5, 200/782: 2.4738, acc: 0.34375\n",
      "2023-05-31 17:44:13.081326, 2/5, 300/782: 1.7507, acc: 0.609375\n",
      "2023-05-31 17:44:15.747903, 2/5, 400/782: 1.8122, acc: 0.5\n",
      "2023-05-31 17:44:18.650659, 2/5, 500/782: 2.0597, acc: 0.46875\n",
      "2023-05-31 17:44:21.199290, 2/5, 600/782: 1.5761, acc: 0.59375\n",
      "2023-05-31 17:44:23.676114, 2/5, 700/782: 2.0655, acc: 0.53125\n",
      "2023-05-31 17:44:28.534895, 3/5, 100/782: 1.4533, acc: 0.5625\n",
      "2023-05-31 17:44:30.963006, 3/5, 200/782: 1.6719, acc: 0.578125\n",
      "2023-05-31 17:44:33.782679, 3/5, 300/782: 1.4185, acc: 0.625\n",
      "2023-05-31 17:44:36.551590, 3/5, 400/782: 1.3538, acc: 0.546875\n",
      "2023-05-31 17:44:39.350126, 3/5, 500/782: 1.7616, acc: 0.484375\n",
      "2023-05-31 17:44:41.932694, 3/5, 600/782: 1.6600, acc: 0.59375\n",
      "2023-05-31 17:44:44.556526, 3/5, 700/782: 1.7427, acc: 0.5\n",
      "2023-05-31 17:44:49.454301, 4/5, 100/782: 1.3529, acc: 0.625\n",
      "2023-05-31 17:44:51.981786, 4/5, 200/782: 1.2218, acc: 0.671875\n",
      "2023-05-31 17:44:54.623113, 4/5, 300/782: 1.2101, acc: 0.703125\n",
      "2023-05-31 17:44:57.137361, 4/5, 400/782: 1.3620, acc: 0.703125\n",
      "2023-05-31 17:44:59.796548, 4/5, 500/782: 1.2363, acc: 0.65625\n",
      "2023-05-31 17:45:02.308641, 4/5, 600/782: 1.1747, acc: 0.65625\n",
      "2023-05-31 17:45:04.939688, 4/5, 700/782: 1.2140, acc: 0.59375\n",
      "2023-05-31 17:45:09.569655, 5/5, 100/782: 0.9969, acc: 0.703125\n",
      "2023-05-31 17:45:12.125135, 5/5, 200/782: 1.1027, acc: 0.65625\n",
      "2023-05-31 17:45:14.671630, 5/5, 300/782: 1.1487, acc: 0.65625\n",
      "2023-05-31 17:45:17.232285, 5/5, 400/782: 1.1466, acc: 0.625\n",
      "2023-05-31 17:45:19.871079, 5/5, 500/782: 0.9116, acc: 0.71875\n",
      "2023-05-31 17:45:22.420740, 5/5, 600/782: 1.1448, acc: 0.65625\n",
      "2023-05-31 17:45:25.024978, 5/5, 700/782: 0.8734, acc: 0.703125\n"
     ]
    }
   ],
   "source": [
    "loss_vals = []\n",
    "for epoch in range(num_epochs):\n",
    "    epoch_loss = []\n",
    "    for batch_idx, (images, labels) in enumerate(train_dataloader):\n",
    "        images = images.to(device)\n",
    "        labels = labels.to(device)\n",
    "        \n",
    "\n",
    "        out = model(images)\n",
    "        loss = criterion(out, labels)\n",
    "        \n",
    "        n_corrects = (out.argmax(axis=1) == labels).sum().item()\n",
    "        acc = n_corrects/labels.size(0)\n",
    "\n",
    "        optimizer.zero_grad()\n",
    "        loss.backward()\n",
    "        epoch_loss.append(loss.item())\n",
    "        optimizer.step()   \n",
    "        if (batch_idx+1) % 100 == 0:\n",
    "            print(f'{datetime.now()}, {epoch+1}/{num_epochs}, {batch_idx+1}/{total_batch}: {loss.item():.4f}, acc: {acc}')\n",
    "    loss_vals.append(sum(epoch_loss)/len(epoch_loss))      "
   ]
  },
  {
   "cell_type": "code",
   "execution_count": 18,
   "metadata": {},
   "outputs": [
    {
     "name": "stderr",
     "output_type": "stream",
     "text": [
      "100%|██████████| 157/157 [00:02<00:00, 52.94it/s]"
     ]
    },
    {
     "name": "stdout",
     "output_type": "stream",
     "text": [
      "5156/10000=0.5156\n"
     ]
    },
    {
     "name": "stderr",
     "output_type": "stream",
     "text": [
      "\n"
     ]
    }
   ],
   "source": [
    "total = 0\n",
    "correct = 0\n",
    "for images, labels in tqdm(test_dataloader):\n",
    "    images = images.to(device)\n",
    "    labels = labels.to(device)\n",
    "    out = model(images)\n",
    "    preds = torch.argmax(out, dim=1)\n",
    "    total += images.size(0)\n",
    "    correct += (preds == labels).sum().item()\n",
    "print(f'{correct}/{total}={correct/total}')"
   ]
  },
  {
   "cell_type": "code",
   "execution_count": 30,
   "metadata": {},
   "outputs": [],
   "source": [
    "torch.save(model.state_dict(), 'resnet18_cifar100_baseline.ckpt')"
   ]
  },
  {
   "cell_type": "code",
   "execution_count": null,
   "metadata": {},
   "outputs": [],
   "source": []
  },
  {
   "cell_type": "code",
   "execution_count": 37,
   "metadata": {},
   "outputs": [
    {
     "name": "stdout",
     "output_type": "stream",
     "text": [
      "2023-05-31 23:29:22.112820, 1/5, 100/782: 3.9867, acc: 0.09375\n",
      "2023-05-31 23:29:24.666041, 1/5, 200/782: 3.1913, acc: 0.203125\n",
      "2023-05-31 23:29:27.281824, 1/5, 300/782: 2.8839, acc: 0.28125\n",
      "2023-05-31 23:29:30.198263, 1/5, 400/782: 2.3011, acc: 0.375\n",
      "2023-05-31 23:29:33.196763, 1/5, 500/782: 2.4049, acc: 0.390625\n",
      "2023-05-31 23:29:35.759696, 1/5, 600/782: 2.2521, acc: 0.4375\n",
      "2023-05-31 23:29:38.656019, 1/5, 700/782: 2.3329, acc: 0.34375\n",
      "2023-05-31 23:29:43.793891, 2/5, 100/782: 2.2470, acc: 0.40625\n",
      "2023-05-31 23:29:46.735032, 2/5, 200/782: 2.0985, acc: 0.484375\n",
      "2023-05-31 23:29:50.349051, 2/5, 300/782: 1.6601, acc: 0.515625\n",
      "2023-05-31 23:29:54.600106, 2/5, 400/782: 1.9729, acc: 0.5\n",
      "2023-05-31 23:29:58.550691, 2/5, 500/782: 1.5351, acc: 0.625\n",
      "2023-05-31 23:30:02.595049, 2/5, 600/782: 1.7352, acc: 0.546875\n",
      "2023-05-31 23:30:05.685691, 2/5, 700/782: 1.4183, acc: 0.609375\n",
      "2023-05-31 23:30:11.996841, 3/5, 100/782: 1.5762, acc: 0.640625\n",
      "2023-05-31 23:30:15.355426, 3/5, 200/782: 1.4752, acc: 0.546875\n",
      "2023-05-31 23:30:18.420146, 3/5, 300/782: 1.7944, acc: 0.515625\n",
      "2023-05-31 23:30:21.295068, 3/5, 400/782: 1.2073, acc: 0.703125\n",
      "2023-05-31 23:30:24.272069, 3/5, 500/782: 1.8571, acc: 0.46875\n",
      "2023-05-31 23:30:27.255830, 3/5, 600/782: 1.3028, acc: 0.578125\n",
      "2023-05-31 23:30:30.369201, 3/5, 700/782: 1.4697, acc: 0.625\n",
      "2023-05-31 23:30:35.739870, 4/5, 100/782: 1.3013, acc: 0.65625\n",
      "2023-05-31 23:30:38.315926, 4/5, 200/782: 1.4259, acc: 0.640625\n",
      "2023-05-31 23:30:41.003346, 4/5, 300/782: 1.6610, acc: 0.59375\n",
      "2023-05-31 23:30:44.067619, 4/5, 400/782: 1.6177, acc: 0.578125\n",
      "2023-05-31 23:30:46.880241, 4/5, 500/782: 1.2391, acc: 0.65625\n",
      "2023-05-31 23:30:49.807379, 4/5, 600/782: 1.2678, acc: 0.65625\n",
      "2023-05-31 23:30:52.885822, 4/5, 700/782: 1.2779, acc: 0.625\n",
      "2023-05-31 23:30:58.370884, 5/5, 100/782: 1.1435, acc: 0.65625\n",
      "2023-05-31 23:31:01.166254, 5/5, 200/782: 1.0539, acc: 0.75\n",
      "2023-05-31 23:31:04.548327, 5/5, 300/782: 1.1518, acc: 0.65625\n",
      "2023-05-31 23:31:07.991870, 5/5, 400/782: 0.8118, acc: 0.703125\n",
      "2023-05-31 23:31:11.055871, 5/5, 500/782: 1.2073, acc: 0.625\n",
      "2023-05-31 23:31:13.940585, 5/5, 600/782: 0.9002, acc: 0.75\n",
      "2023-05-31 23:31:16.681059, 5/5, 700/782: 1.0984, acc: 0.71875\n"
     ]
    }
   ],
   "source": [
    "loss_vals2 = []\n",
    "for epoch in range(num_epochs):\n",
    "    epoch_loss = []\n",
    "    for batch_idx, (images, labels) in enumerate(train_dataloader):\n",
    "        images = images.to(device)\n",
    "        labels = labels.to(device)\n",
    "        \n",
    "\n",
    "        out = model(images)\n",
    "        loss = criterion(out, labels)\n",
    "        \n",
    "\n",
    "        n_corrects = (out.argmax(axis=1) == labels).sum().item()\n",
    "        acc = n_corrects/labels.size(0)\n",
    "        \n",
    "\n",
    "        optimizer.zero_grad()\n",
    "        loss.backward()\n",
    "        epoch_loss.append(loss.item())\n",
    "        optimizer.step()   \n",
    "        \n",
    "        if (batch_idx+1) % 100 == 0:\n",
    "            print(f'{datetime.now()}, {epoch+1}/{num_epochs}, {batch_idx+1}/{total_batch}: {loss.item():.4f}, acc: {acc}')\n",
    "    loss_vals2.append(sum(epoch_loss)/len(epoch_loss))      "
   ]
  },
  {
   "cell_type": "code",
   "execution_count": 38,
   "metadata": {},
   "outputs": [
    {
     "name": "stderr",
     "output_type": "stream",
     "text": [
      "100%|██████████| 157/157 [00:03<00:00, 48.09it/s]"
     ]
    },
    {
     "name": "stdout",
     "output_type": "stream",
     "text": [
      "5108/10000=0.5108\n"
     ]
    },
    {
     "name": "stderr",
     "output_type": "stream",
     "text": [
      "\n"
     ]
    }
   ],
   "source": [
    "total = 0\n",
    "correct = 0\n",
    "for images, labels in tqdm(test_dataloader):\n",
    "    images = images.to(device)\n",
    "    labels = labels.to(device)\n",
    "    out = model(images)\n",
    "    preds = torch.argmax(out, dim=1)\n",
    "    total += images.size(0)\n",
    "    correct += (preds == labels).sum().item()\n",
    "print(f'{correct}/{total}={correct/total}')"
   ]
  },
  {
   "cell_type": "code",
   "execution_count": 39,
   "metadata": {},
   "outputs": [],
   "source": [
    "from matplotlib import pyplot as plt\n",
    "import numpy as np\n",
    "def my_plot(epochs, loss,labels = ''):\n",
    "    plt.plot(epochs, loss,label = labels)"
   ]
  },
  {
   "cell_type": "code",
   "execution_count": 40,
   "metadata": {},
   "outputs": [
    {
     "data": {
      "image/png": "[encoded data removed]",
      "text/plain": [
       "<Figure size 640x480 with 1 Axes>"
      ]
     },
     "metadata": {},
     "output_type": "display_data"
    }
   ],
   "source": [
    "my_plot(np.linspace(1,num_epochs,num_epochs).astype(int),loss_vals,labels='naive-loss')\n",
    "my_plot(np.linspace(1,num_epochs,num_epochs).astype(int),loss_vals2,labels='cutout-loss')\n",
    "plt.xlabel('Epoch')\n",
    "plt.ylabel('Test-Loss')\n",
    "plt.title('Model - loss')\n",
    "plt.legend(loc='upper right')\n",
    "plt.show()"
   ]
  },
  {
   "cell_type": "code",
   "execution_count": 21,
   "metadata": {},
   "outputs": [
    {
     "data": {
      "text/plain": [
       "torch.Size([16, 3, 32, 32])"
      ]
     },
     "execution_count": 21,
     "metadata": {},
     "output_type": "execute_result"
    }
   ],
   "source": [
    "images.shape"
   ]
  },
  {
   "cell_type": "code",
   "execution_count": 22,
   "metadata": {},
   "outputs": [],
   "source": [
    "def imshow(img):\n",
    "    img = img / 2 + 0.5     # unnormalize\n",
    "    npimg = img.numpy()\n",
    "    plt.imshow(np.transpose(npimg, (1, 2, 0)))\n",
    "    plt.show()"
   ]
  },
  {
   "cell_type": "code",
   "execution_count": 23,
   "metadata": {},
   "outputs": [],
   "source": [
    "cpu = torch.device('cpu')"
   ]
  },
  {
   "cell_type": "code",
   "execution_count": 24,
   "metadata": {},
   "outputs": [],
   "source": [
    "images2 = images"
   ]
  },
  {
   "cell_type": "code",
   "execution_count": 25,
   "metadata": {},
   "outputs": [],
   "source": [
    "images2 = images2.to(cpu)"
   ]
  },
  {
   "cell_type": "code",
   "execution_count": 51,
   "metadata": {},
   "outputs": [
    {
     "data": {
      "text/plain": [
       "<matplotlib.image.AxesImage at 0x255972a8d00>"
      ]
     },
     "execution_count": 51,
     "metadata": {},
     "output_type": "execute_result"
    },
    {
     "data": {
      "image/png": "[encoded data removed]",
      "text/plain": [
       "<Figure size 640x480 with 1 Axes>"
      ]
     },
     "metadata": {},
     "output_type": "display_data"
    }
   ],
   "source": [
    "cut = Cutout(1,length=10)\n",
    "plt.imshow(cut(images2[3]).permute(1, 2, 0)  )"
   ]
  },
  {
   "cell_type": "code",
   "execution_count": 52,
   "metadata": {},
   "outputs": [
    {
     "data": {
      "text/plain": [
       "<matplotlib.image.AxesImage at 0x2559e4d1a60>"
      ]
     },
     "execution_count": 52,
     "metadata": {},
     "output_type": "execute_result"
    },
    {
     "data": {
      "image/png": "[encoded data removed]",
      "text/plain": [
       "<Figure size 640x480 with 1 Axes>"
      ]
     },
     "metadata": {},
     "output_type": "display_data"
    }
   ],
   "source": [
    "cut = Cutout(1,length=10)\n",
    "plt.imshow(cut(images2[0]).permute(1, 2, 0)  )"
   ]
  },
  {
   "cell_type": "code",
   "execution_count": 53,
   "metadata": {},
   "outputs": [
    {
     "data": {
      "text/plain": [
       "<matplotlib.image.AxesImage at 0x2559d4c5490>"
      ]
     },
     "execution_count": 53,
     "metadata": {},
     "output_type": "execute_result"
    },
    {
     "data": {
      "image/png": "[encoded data removed]",
      "text/plain": [
       "<Figure size 640x480 with 1 Axes>"
      ]
     },
     "metadata": {},
     "output_type": "display_data"
    }
   ],
   "source": [
    "cut = Cutout(1,length=10)\n",
    "plt.imshow(cut(images2[15]).permute(1, 2, 0)  )"
   ]
  }
 ],
 "metadata": {
  "kernelspec": {
   "display_name": "venv",
   "language": "python",
   "name": "python3"
  },
  "language_info": {
   "codemirror_mode": {
    "name": "ipython",
    "version": 3
   },
   "file_extension": ".py",
   "mimetype": "text/x-python",
   "name": "python",
   "nbconvert_exporter": "python",
   "pygments_lexer": "ipython3",
   "version": "3.9.13"
  },
  "orig_nbformat": 4
 },
 "nbformat": 4,
 "nbformat_minor": 2
}
